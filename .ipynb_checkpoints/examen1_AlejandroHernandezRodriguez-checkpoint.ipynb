{
 "cells": [
  {
   "cell_type": "code",
   "execution_count": 169,
   "metadata": {},
   "outputs": [],
   "source": [
    "import multiprocessing as mp\n",
    "import time\n",
    "import random\n",
    "import os"
   ]
  },
  {
   "cell_type": "code",
   "execution_count": 217,
   "metadata": {},
   "outputs": [],
   "source": [
    "def serpiente1(lock, queue):\n",
    "    \"\"\"\n",
    "        Serpiente1(lock, cola, arreglo)\n",
    "            Imprime una cadena definida por un orden dado\n",
    "            Nota: El arreglo debe de ser de elementos unicos\n",
    "        >>> Serpiente(lock, queue((4, 0),(2, 1)))\n",
    "        >>> s0s0s0s0s1s1\n",
    "        \n",
    "        >>> Serpiente(lock, queue((4, 0),(2, 1), (1, 2)))\n",
    "        >>> s0s0s0s0s1s1s2\n",
    "\n",
    "    \"\"\"\n",
    "    lock.acquire()\n",
    "    n = queue.get()\n",
    "    print(\"S{}\".format(n[1])*n[0], end=\"\")\n",
    "    lock.release()"
   ]
  },
  {
   "cell_type": "code",
   "execution_count": 218,
   "metadata": {},
   "outputs": [
    {
     "name": "stdout",
     "output_type": "stream",
     "text": [
      "S0S0S0S0S0S0S0S0S0S0S0S0S0S0S0S0S0S0S0S0S0S0S0S0S0S0S0S0S0S0S0S0S0S0S0S0S0S0S0S0S0S0S0S0S0S0S0S0S0S0S0S0S0S0S0S0S0S0S0S0S0S0S0S0S0S0S0S0S0S0S0S0S0S0S0S0S0S0S1S1S1S1S1S1S1S1S1S1S1S1S1S1S1S1S1S1S1S1S1S1S1S1S1S1S1S1S1S1S1S1S1S1S1S1S1S1S1S1S1S1S1S1S1S1S1S2S2S2S2S2S2S2S2S2S2S2S2S2S2S2S2S2S2S2S2S2S2S2S2S2S2S2S2S2S2S2S2S2S2S2S2S2S2S2S2S2S2S2S2S2S2S2S2S2S2S2S2S2S2S2S2S2S2S2S2S2S2S2S2S2S2S2S2S2S2S2S2S2S2S2S2S2S2S2S2S2S2S2S2S2S2S2S2S2S2S2\n",
      "Tiempo ejecución:  0.07487893104553223\n"
     ]
    }
   ],
   "source": [
    "t = time.time()\n",
    "lock = mp.Lock()\n",
    "numeros = mp.SimpleQueue()\n",
    "\n",
    "# Arreglo con orden de impresion\n",
    "indices = mp.Array('i', [2, 1, 0])\n",
    "k = 3\n",
    "# Llenado de cola de datos\n",
    "[numeros.put((random.randint(1,100), i)) for i in range(k)]\n",
    "P1 =  mp.Process(target = serpiente1, args = (lock,numeros))\n",
    "P2 =  mp.Process(target = serpiente1, args = (lock,numeros))\n",
    "P3 =  mp.Process(target = serpiente1, args = (lock,numeros))\n",
    "P1.start()\n",
    "P2.start()\n",
    "P3.start()\n",
    "    \n",
    "P1.join()\n",
    "P2.join()\n",
    "P3.join()\n",
    "    \n",
    "    \n",
    "print(\"\\nTiempo ejecución: \", time.time() - t)"
   ]
  },
  {
   "cell_type": "code",
   "execution_count": 219,
   "metadata": {},
   "outputs": [],
   "source": [
    "def serpiente(lock, queue, indices):\n",
    "    \"\"\"\n",
    "        Serpiente(lock, cola, arreglo)\n",
    "            Imprime una cadena definida por un orden dado\n",
    "            Nota: El arreglo debe de ser de elementos unicos\n",
    "        >>> Serpiente(lock, queue((4, 0, 1),(2, 1, 0)), [1, 0])\n",
    "        >>> s4s4s4s4s2s2\n",
    "        \n",
    "        >>> Serpiente(lock, queue((4, 0, 2),(2, 1, 1), (1, 2, 0)), [2,1,0])\n",
    "        >>> s2s2s2s2s1s1s0\n",
    "\n",
    "    \"\"\"\n",
    "    lock.acquire()\n",
    "    for j in range(len(indices)):\n",
    "\n",
    "        n = queue.get()\n",
    "        if queue.empty() == True:\n",
    "                print(\"s{}\".format(n[1])*n[0], end = \"\")\n",
    "                \n",
    "        while queue.empty() == False:   \n",
    "            if n[1] == indices[j]:\n",
    "                print(\"s{}\".format(n[1])*n[0], end = \"\")\n",
    "                break\n",
    "            queue.put(n)\n",
    "            n = queue.get()       \n",
    "    \n",
    "    lock.release()\n",
    "    "
   ]
  },
  {
   "cell_type": "code",
   "execution_count": 220,
   "metadata": {},
   "outputs": [
    {
     "name": "stdout",
     "output_type": "stream",
     "text": [
      "s2s2s2s2s2s2s2s2s2s2s2s2s2s2s2s2s2s2s2s2s2s2s2s2s2s2s2s2s2s2s2s2s2s2s2s2s2s1s1s1s1s1s1s1s1s1s1s1s1s1s1s1s1s1s1s1s1s1s1s1s1s1s1s1s1s1s1s1s1s1s1s1s1s1s1s1s1s1s1s1s1s1s1s1s1s1s1s1s1s1s1s1s1s1s1s1s1s1s1s1s1s1s1s1s1s1s1s1s1s1s1s1s1s1s0s0s0s0s0s0s0s0s0s0s0s0s0s0s0s0s0s0s0s0s0s0s0s0s0s0s0s0s0s0s0s0s0s0s0s0s0s0s0s0s0s0s0s0s0s0s0s0s0\n",
      "Tiempo ejecución:  0.03154397010803223\n"
     ]
    }
   ],
   "source": [
    "t = time.time()\n",
    "lock = mp.Lock()\n",
    "numeros = mp.SimpleQueue()\n",
    "\n",
    "# Arreglo con orden de impresion\n",
    "indices = mp.Array('i', [2, 1, 0])\n",
    "\n",
    "# Llenado de cola de datos\n",
    "[numeros.put((random.randint(1,100), i, j)) for i,j in enumerate(indices)]\n",
    "\n",
    "# \n",
    "while numeros.empty() != True:\n",
    "    P = mp.Process(target = serpiente, args = (lock,numeros, indices))\n",
    "\n",
    "    P.start()\n",
    "    P.join()\n",
    "    \n",
    "    \n",
    "print(\"\\nTiempo ejecución: \", time.time() - t)"
   ]
  },
  {
   "cell_type": "code",
   "execution_count": 230,
   "metadata": {},
   "outputs": [],
   "source": [
    "def serpiente2(lock, indice, valor, queue):\n",
    "    \"\"\"\n",
    "        Serpiente2(lock, number, number, cola)\n",
    "            Imprime una cadena definida por un orden dado\n",
    "            Nota: El arreglo debe de ser de elementos unicos\n",
    "        >>> Serpiente(lock, queue(2,1,0,3), 2, 3)\n",
    "        >>> S2S2S2\n",
    "        \n",
    "    \"\"\"\n",
    "    lock.acquire()\n",
    "    n = queue.get()\n",
    "    if n == indice:\n",
    "        print(\"S{}\".format(indice)*valor, end=\"\")\n",
    "    else:\n",
    "        queue.put(n)\n",
    "        \n",
    "    lock.release()"
   ]
  },
  {
   "cell_type": "code",
   "execution_count": 232,
   "metadata": {},
   "outputs": [
    {
     "name": "stdout",
     "output_type": "stream",
     "text": [
      "S2S2S2S2S2S1S1S1S1S1S1S1S1S1S1S1S1S1S1S1S1S1S1S1S1S1S1S1S1S1S1S1S1S1S1S1S1S1S1S1S1S1S1S1S1S1S1S1S1S1S1S1S1S1S1S1S1S1S1S1S1S1S1S1S1S1S1S1S1S1S1S1S1S1S1S1S1S1S1S1S1S1S1S1S1S1S1S1S1S1S1S1S1S1S1S1S1S1S1S1S1S1S1S1S0S0S0S0S0S0S0S0S0S0S0S0S0S0S0S0S0S0S0S0S0S0S0S0S0S0S0S0S0S0S0S0S0S0S0S0S0S0S0S0S0S0S0S0S0S0S0S0S0S0S0S0S0S0S0S0S0S0S0S0S0S0S0S0S0S0S0S0S0S0S0S0S0S0S0S0S0S0S0S0S0S0S0S0S0S0S0S0S0S0S0S0S0S0S0S3S3S3S3S3S3S3S3S3S3S3S3S3S3S3S3S3S3S3S3S3S3S3S3S3S3S3S3S3S3S3S3S3S3S3S3S3S3S3S3S3S3S3S3S3S3S3S3S3S3S3S3S3S3S3S3S3S3S3S3S3S3S3S3S3S3S3S3S3S3S3S3S3S3S3S3S3S3S3S3S3S3S3S3S3S3S3S3S3S3S3S3"
     ]
    }
   ],
   "source": [
    "Ps = []\n",
    "orden = [2,1,0,3]\n",
    "valores = [random.randint(1,100) for i in range(len(orden))]\n",
    "cola = mp.SimpleQueue()\n",
    "[cola.put(o) for o in orden]\n",
    "\n",
    "for i,j in zip(orden, valores):\n",
    "    P = mp.Process(target = serpiente2, args = (lock, i, j, cola))\n",
    "    Ps.append(P)\n",
    "    P.start()\n",
    "\n",
    "for p in Ps:\n",
    "    P.join()\n",
    "    "
   ]
  },
  {
   "cell_type": "code",
   "execution_count": null,
   "metadata": {},
   "outputs": [],
   "source": []
  }
 ],
 "metadata": {
  "kernelspec": {
   "display_name": "Python 3",
   "language": "python",
   "name": "python3"
  },
  "language_info": {
   "codemirror_mode": {
    "name": "ipython",
    "version": 3
   },
   "file_extension": ".py",
   "mimetype": "text/x-python",
   "name": "python",
   "nbconvert_exporter": "python",
   "pygments_lexer": "ipython3",
   "version": "3.7.4"
  }
 },
 "nbformat": 4,
 "nbformat_minor": 2
}
