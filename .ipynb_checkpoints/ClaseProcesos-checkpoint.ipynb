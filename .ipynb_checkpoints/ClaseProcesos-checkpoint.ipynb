{
 "cells": [
  {
   "cell_type": "markdown",
   "metadata": {},
   "source": [
    "# MULTIPROCESSING"
   ]
  },
  {
   "cell_type": "markdown",
   "metadata": {},
   "source": [
    "`Multiproccesing` es un paquete de python que permite la generación de procesos, el cual ofrece concurrencia local como remota."
   ]
  },
  {
   "cell_type": "markdown",
   "metadata": {},
   "source": [
    "# Ejemplo secuencial"
   ]
  },
  {
   "cell_type": "code",
   "execution_count": 2,
   "metadata": {},
   "outputs": [],
   "source": [
    "import time\n",
    "import multiprocessing as mp"
   ]
  },
  {
   "cell_type": "code",
   "execution_count": 7,
   "metadata": {},
   "outputs": [],
   "source": [
    "def calc_cuad(numeros):\n",
    "    print(\"Calculo del cuadrado: \")\n",
    "    for n in numeros:\n",
    "        time.sleep(0.2)\n",
    "        print(\"Cuadrado: \", n * n)"
   ]
  },
  {
   "cell_type": "code",
   "execution_count": 8,
   "metadata": {},
   "outputs": [],
   "source": [
    "def calc_cubo(numeros):\n",
    "    print(\"Calculo del cubo: \")\n",
    "    for n in numeros:\n",
    "        time.sleep(0.2)\n",
    "        print(\"Cubo: \", n * n *n)"
   ]
  },
  {
   "cell_type": "code",
   "execution_count": 34,
   "metadata": {},
   "outputs": [
    {
     "name": "stdout",
     "output_type": "stream",
     "text": [
      "Calculo del cuadrado: \n",
      "Cuadrado:  0\n",
      "Cuadrado:  1\n",
      "Cuadrado:  4\n",
      "Cuadrado:  9\n",
      "Cuadrado:  16\n",
      "Cuadrado:  25\n",
      "Cuadrado:  36\n",
      "Cuadrado:  49\n",
      "Cuadrado:  64\n",
      "Cuadrado:  81\n",
      "Calculo del cubo: \n",
      "Cubo:  0\n",
      "Cubo:  1\n",
      "Cubo:  8\n",
      "Cubo:  27\n",
      "Cubo:  64\n",
      "Cubo:  125\n",
      "Cubo:  216\n",
      "Cubo:  343\n",
      "Cubo:  512\n",
      "Cubo:  729\n",
      "Tiempo ejecución:  4.049568176269531\n",
      "Finaliza Ejecución\n"
     ]
    }
   ],
   "source": [
    "nums = range(10)\n",
    "\n",
    "t = time.time()\n",
    "calc_cuad(nums)\n",
    "calc_cubo(nums)\n",
    "\n",
    "print(\"Tiempo ejecución: \", time.time() - t)\n",
    "print(\"Finaliza Ejecución\")\n"
   ]
  },
  {
   "cell_type": "markdown",
   "metadata": {},
   "source": [
    "Una manera sencilla de generar un proceso es por medio de la creación del objeto `Process` y llamarlo por medio del método `start()`"
   ]
  },
  {
   "cell_type": "code",
   "execution_count": 26,
   "metadata": {},
   "outputs": [
    {
     "name": "stdout",
     "output_type": "stream",
     "text": [
      "Hola Ale\n"
     ]
    }
   ],
   "source": [
    "def tarea(nombre):\n",
    "    print(\"Hola\", nombre)\n",
    "    \n",
    "def tarea2(nombre):\n",
    "    print(\"Adios\", nombre)\n",
    "    \n",
    "# if __name__ == \"__main__\":            \n",
    "Proceso1 = mp.Process(target = tarea, args = (\"Ale\",))\n",
    "\n",
    "# Iniciar el Proceso 1\n",
    "Proceso1.start()                      \n",
    "\n",
    "# Pausar los demas procesos hasta terminar Proceso 1\n",
    "Proceso1.join()"
   ]
  },
  {
   "cell_type": "code",
   "execution_count": 30,
   "metadata": {},
   "outputs": [
    {
     "name": "stdout",
     "output_type": "stream",
     "text": [
      "Calculo del cuadrado: \n",
      "Cuadrado:  0\n",
      "Cuadrado:  1\n",
      "Cuadrado:  4\n",
      "Cuadrado:  9\n",
      "Cuadrado:  16\n",
      "Cuadrado:  25\n",
      "Cuadrado:  36\n",
      "Cuadrado:  49\n",
      "Cuadrado:  64\n",
      "Cuadrado:  81\n",
      "Tiempo ejecución:  2.07546067237854\n",
      "Finaliza Ejecución\n"
     ]
    }
   ],
   "source": [
    "nums = range(10)\n",
    "\n",
    "t = time.time()\n",
    "Proceso2 = mp.Process(target = calc_cuad, args = (nums,))\n",
    "\n",
    "Proceso2.start()\n",
    "Proceso2.join()\n",
    "\n",
    "print(\"Tiempo ejecución: \", time.time() - t)\n",
    "print(\"Finaliza Ejecución\")"
   ]
  },
  {
   "cell_type": "code",
   "execution_count": 40,
   "metadata": {},
   "outputs": [
    {
     "name": "stdout",
     "output_type": "stream",
     "text": [
      "Calculo del cuadrado: \n",
      "Calculo del cubo: \n",
      "Cuadrado:  0\n",
      "Cubo:  0\n",
      "Cuadrado:  1\n",
      "Cubo:  1\n",
      "Cuadrado:  4\n",
      "Cubo:  8\n",
      "Cuadrado:  9\n",
      "Cubo:  27\n",
      "Cuadrado:  16\n",
      "Cubo:  64\n",
      "Cuadrado:  25\n",
      "Cubo:  125\n",
      "Cuadrado:  36\n",
      "Cubo:  216\n",
      "Cuadrado:  49\n",
      "Cubo:  343\n",
      "Cuadrado:  64\n",
      "Cubo:  512\n",
      "Cubo:  729\n",
      "Cuadrado:  81\n",
      "Tiempo ejecución:  2.089022159576416\n",
      "Finaliza Ejecución\n"
     ]
    }
   ],
   "source": [
    "nums = range(10)\n",
    "\n",
    "Proceso2 = mp.Process(target = calc_cuad, args = (nums,))\n",
    "Proceso3 = mp.Process(target = calc_cubo, args = (nums,))\n",
    "Proceso4 = mp.Process(target = calc_cubo, args = (nums,))\n",
    "\n",
    "t = time.time()\n",
    "\n",
    "Proceso2.start()\n",
    "# Proceso2.join()\n",
    "\n",
    "Proceso3.start()\n",
    "Proceso4.start()\n",
    "# Proceso3.join()\n",
    "\n",
    "Proceso2.join()\n",
    "Proceso3.join()\n",
    "Proceso4.join()\n",
    "\n",
    "print(\"Tiempo ejecución: \", time.time() - t)\n",
    "print(\"Finaliza Ejecución\")"
   ]
  },
  {
   "cell_type": "code",
   "execution_count": null,
   "metadata": {},
   "outputs": [],
   "source": []
  }
 ],
 "metadata": {
  "kernelspec": {
   "display_name": "Python 3",
   "language": "python",
   "name": "python3"
  },
  "language_info": {
   "codemirror_mode": {
    "name": "ipython",
    "version": 3
   },
   "file_extension": ".py",
   "mimetype": "text/x-python",
   "name": "python",
   "nbconvert_exporter": "python",
   "pygments_lexer": "ipython3",
   "version": "3.7.4"
  }
 },
 "nbformat": 4,
 "nbformat_minor": 2
}
