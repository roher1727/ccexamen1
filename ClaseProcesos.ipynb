{
 "cells": [
  {
   "cell_type": "markdown",
   "metadata": {},
   "source": [
    "# MULTIPROCESSING"
   ]
  },
  {
   "cell_type": "markdown",
   "metadata": {},
   "source": [
    "`Multiproccesing` es un paquete de python que permite la generación de procesos, el cual ofrece concurrencia local como remota."
   ]
  },
  {
   "cell_type": "markdown",
   "metadata": {},
   "source": [
    "# Ejemplo secuencial"
   ]
  },
  {
   "cell_type": "code",
   "execution_count": 51,
   "metadata": {},
   "outputs": [],
   "source": [
    "import time, random\n",
    "import os\n",
    "import multiprocessing as mp\n",
    "import matplotlib.pyplot as plt\n",
    "import numpy as np"
   ]
  },
  {
   "cell_type": "code",
   "execution_count": 31,
   "metadata": {},
   "outputs": [],
   "source": [
    "def calc_cuad(numeros):\n",
    "    print(\"Calculo del cuadrado: \")\n",
    "    for n in numeros:\n",
    "        time.sleep(0.2)\n",
    "        print(\"Cuadrado: \", n * n)"
   ]
  },
  {
   "cell_type": "code",
   "execution_count": 30,
   "metadata": {},
   "outputs": [],
   "source": [
    "def calc_cubo(numeros):\n",
    "    print(\"Calculo del cubo: \")\n",
    "    for n in numeros:\n",
    "        time.sleep(0.2)\n",
    "        print(\"Cubo: \", n * n *n)"
   ]
  },
  {
   "cell_type": "code",
   "execution_count": 4,
   "metadata": {},
   "outputs": [
    {
     "name": "stdout",
     "output_type": "stream",
     "text": [
      "Calculo del cuadrado: \n",
      "Cuadrado:  0\n",
      "Cuadrado:  1\n",
      "Cuadrado:  4\n",
      "Cuadrado:  9\n",
      "Cuadrado:  16\n",
      "Cuadrado:  25\n",
      "Cuadrado:  36\n",
      "Cuadrado:  49\n",
      "Cuadrado:  64\n",
      "Cuadrado:  81\n",
      "Calculo del cubo: \n",
      "Cubo:  0\n",
      "Cubo:  1\n",
      "Cubo:  8\n",
      "Cubo:  27\n",
      "Cubo:  64\n",
      "Cubo:  125\n",
      "Cubo:  216\n",
      "Cubo:  343\n",
      "Cubo:  512\n",
      "Cubo:  729\n",
      "Tiempo ejecución:  4.0833899974823\n",
      "Finaliza Ejecución\n"
     ]
    }
   ],
   "source": [
    "nums = range(10)\n",
    "\n",
    "t = time.time()\n",
    "calc_cuad(nums)\n",
    "calc_cubo(nums)\n",
    "\n",
    "print(\"Tiempo ejecución: \", time.time() - t)\n",
    "print(\"Finaliza Ejecución\")\n"
   ]
  },
  {
   "cell_type": "markdown",
   "metadata": {},
   "source": [
    "Una manera sencilla de generar un proceso es por medio de la creación del objeto `Process` y llamarlo por medio del método `start()`"
   ]
  },
  {
   "cell_type": "code",
   "execution_count": 5,
   "metadata": {},
   "outputs": [
    {
     "name": "stdout",
     "output_type": "stream",
     "text": [
      "Hola Ale\n"
     ]
    }
   ],
   "source": [
    "def tarea(nombre):\n",
    "    print(\"Hola\", nombre)\n",
    "    \n",
    "def tarea2(nombre):\n",
    "    print(\"Adios\", nombre)\n",
    "    \n",
    "# if __name__ == \"__main__\":            \n",
    "Proceso1 = mp.Process(target = tarea, args = (\"Ale\",))\n",
    "\n",
    "# Iniciar el Proceso 1\n",
    "Proceso1.start()                      \n",
    "\n",
    "# Pausar los demas procesos hasta terminar Proceso 1\n",
    "Proceso1.join()"
   ]
  },
  {
   "cell_type": "code",
   "execution_count": 6,
   "metadata": {},
   "outputs": [
    {
     "name": "stdout",
     "output_type": "stream",
     "text": [
      "Calculo del cuadrado: \n",
      "Cuadrado:  0\n",
      "Cuadrado:  1\n",
      "Cuadrado:  4\n",
      "Cuadrado:  9\n",
      "Cuadrado:  16\n",
      "Cuadrado:  25\n",
      "Cuadrado:  36\n",
      "Cuadrado:  49\n",
      "Cuadrado:  64\n",
      "Cuadrado:  81\n",
      "Tiempo ejecución:  2.080228090286255\n",
      "Finaliza Ejecución\n"
     ]
    }
   ],
   "source": [
    "nums = range(10)\n",
    "\n",
    "t = time.time()\n",
    "Proceso2 = mp.Process(target = calc_cuad, args = (nums,))\n",
    "\n",
    "Proceso2.start()\n",
    "Proceso2.join()\n",
    "\n",
    "print(\"Tiempo ejecución: \", time.time() - t)\n",
    "print(\"Finaliza Ejecución\")"
   ]
  },
  {
   "cell_type": "code",
   "execution_count": 7,
   "metadata": {},
   "outputs": [
    {
     "name": "stdout",
     "output_type": "stream",
     "text": [
      "Calculo del cuadrado: \n",
      "Calculo del cubo: \n",
      "Calculo del cubo: \n",
      "Cuadrado:  0\n",
      "Cubo:  0\n",
      "Cubo:  0\n",
      "Cubo:  1\n",
      "Cuadrado:  1\n",
      "Cubo:  1\n",
      "Cubo:  8\n",
      "Cuadrado:  4\n",
      "Cubo:  8\n",
      "Cubo:  27\n",
      "Cuadrado:  9\n",
      "Cubo:  27\n",
      "Cubo:  64\n",
      "Cuadrado:  16\n",
      "Cubo:  64\n",
      "Cubo:  125\n",
      "Cuadrado:  25\n",
      "Cubo:  125\n",
      "Cuadrado:  36\n",
      "Cubo:  216\n",
      "Cubo:  216\n",
      "Cubo:  343\n",
      "Cuadrado:  49\n",
      "Cubo:  343\n",
      "Cuadrado:  64\n",
      "Cubo:  512\n",
      "Cubo:  512\n",
      "Cuadrado:  81\n",
      "Cubo:  729\n",
      "Cubo:  729\n",
      "Tiempo ejecución:  2.096680164337158\n",
      "Finaliza Ejecución\n"
     ]
    }
   ],
   "source": [
    "nums = range(10)\n",
    "\n",
    "Proceso2 = mp.Process(target = calc_cuad, args = (nums,))\n",
    "Proceso3 = mp.Process(target = calc_cubo, args = (nums,))\n",
    "Proceso4 = mp.Process(target = calc_cubo, args = (nums,))\n",
    "\n",
    "t = time.time()\n",
    "\n",
    "Proceso2.start()\n",
    "# Proceso2.join()\n",
    "\n",
    "Proceso3.start()\n",
    "Proceso4.start()\n",
    "# Proceso3.join()\n",
    "\n",
    "Proceso2.join()\n",
    "Proceso3.join()\n",
    "Proceso4.join()\n",
    "\n",
    "print(\"Tiempo ejecución: \", time.time() - t)\n",
    "print(\"Finaliza Ejecución\")"
   ]
  },
  {
   "cell_type": "code",
   "execution_count": 8,
   "metadata": {},
   "outputs": [
    {
     "name": "stdout",
     "output_type": "stream",
     "text": [
      "Nombre del modulo:  __main__\n",
      "Proceso padre:  13037\n",
      "Id del proceso:  13047\n"
     ]
    }
   ],
   "source": [
    "print(\"Nombre del modulo: \", __name__)\n",
    "print(\"Proceso padre: \", os.getppid())\n",
    "print(\"Id del proceso: \", os.getpid())"
   ]
  },
  {
   "cell_type": "code",
   "execution_count": 9,
   "metadata": {},
   "outputs": [],
   "source": [
    "def info(titulo):\n",
    "    print(titulo)\n",
    "    print(\"Nombre modulo: \", __name__)\n",
    "    print(\"Proceso padre: \", os.getppid())\n",
    "    print(\"Id del proceso: \", os.getpid())"
   ]
  },
  {
   "cell_type": "code",
   "execution_count": 10,
   "metadata": {},
   "outputs": [],
   "source": [
    "def f(nombre):\n",
    "    info(\"Function f\")\n",
    "    print(\"Hola \", nombre)\n",
    "    print(\"-------------\")"
   ]
  },
  {
   "cell_type": "code",
   "execution_count": 11,
   "metadata": {},
   "outputs": [
    {
     "name": "stdout",
     "output_type": "stream",
     "text": [
      "Function f\n",
      "Nombre modulo:  __main__\n",
      "Proceso padre:  13047\n",
      "Id del proceso:  13112\n",
      "Hola  Ale\n",
      "-------------\n"
     ]
    }
   ],
   "source": [
    "Proceso5 = mp.Process(target = f, args = (\"Ale\",))\n",
    "Proceso5.start()\n",
    "Proceso5.join()"
   ]
  },
  {
   "cell_type": "markdown",
   "metadata": {},
   "source": [
    "# Visibilidad de Variables"
   ]
  },
  {
   "cell_type": "code",
   "execution_count": 12,
   "metadata": {},
   "outputs": [],
   "source": [
    "num_res = []\n",
    "\n",
    "def calc_cuad_2(numeros):\n",
    "    \n",
    "    for n in numeros:\n",
    "        print(\"Cuadrado: \", n * n)\n",
    "        num_res.append(n * n)\n",
    "    print(\"Resultado del proceso\", os.getpid() ,\": \", num_res)"
   ]
  },
  {
   "cell_type": "code",
   "execution_count": 13,
   "metadata": {},
   "outputs": [
    {
     "name": "stdout",
     "output_type": "stream",
     "text": [
      "Cuadrado:  0\n",
      "Cuadrado:  1\n",
      "Cuadrado:  4\n",
      "Cuadrado:  9\n",
      "Cuadrado:  16\n",
      "Cuadrado:  25\n",
      "Cuadrado:  36\n",
      "Cuadrado:  49\n",
      "Cuadrado:  64\n",
      "Cuadrado:  81\n",
      "Resultado del proceso 13113 :  [0, 1, 4, 9, 16, 25, 36, 49, 64, 81]\n",
      "Tiempo de ejecución:  0.04886293411254883\n",
      "Resultado del proceso:  []\n"
     ]
    }
   ],
   "source": [
    "numeros = range(10)\n",
    "t = time.time()\n",
    "Proceso6 = mp.Process(target = calc_cuad_2, args = (numeros,))\n",
    "\n",
    "Proceso6.start()\n",
    "Proceso6.join()\n",
    "\n",
    "print(\"Tiempo de ejecución: \", time.time() - t)\n",
    "print(\"Resultado del proceso: \", num_res)"
   ]
  },
  {
   "cell_type": "markdown",
   "metadata": {},
   "source": [
    "Los procesos tienen su propio espacio de memoria. Así, las variables del programa no se comparten entre procesos. Es necesario crear comunicación entre procesos (IPC) si se desea compartir datos entre procesos."
   ]
  },
  {
   "cell_type": "markdown",
   "metadata": {},
   "source": [
    "## Multiprocessing"
   ]
  },
  {
   "cell_type": "markdown",
   "metadata": {},
   "source": [
    "Con el método `cpu_count()` se muestra el número de procesadores del sistema que se está utilizando."
   ]
  },
  {
   "cell_type": "code",
   "execution_count": 14,
   "metadata": {},
   "outputs": [
    {
     "data": {
      "text/plain": [
       "4"
      ]
     },
     "execution_count": 14,
     "metadata": {},
     "output_type": "execute_result"
    }
   ],
   "source": [
    "mp.cpu_count()"
   ]
  },
  {
   "cell_type": "markdown",
   "metadata": {},
   "source": [
    "### Ejercicios \n",
    "#### 1.-\n",
    "Crea un proceso que construya 5 procesos hijos. \"Captura\" los id's de los procesos hijos y crea una tabla"
   ]
  },
  {
   "cell_type": "code",
   "execution_count": 15,
   "metadata": {},
   "outputs": [],
   "source": [
    "class MyProcess(mp.Process):\n",
    "    def __init__(self, nombre):\n",
    "        super(MyProcess, self).__init__()\n",
    "        self.nombre = nombre\n",
    "\n",
    "    def run(self):\n",
    "        print(\"Child Process Name: {} PID: {}  Parent PID: {}\".format(self.nombre, mp.current_process().pid, os.getppid()))\n",
    "        \n",
    "    def get_prid(self):\n",
    "        return mp.current_process().pid\n",
    "    \n",
    "    def get_nombre(self):\n",
    "        return self.nombre\n",
    "    \n",
    "    def get_pprid(self):\n",
    "        return os.getppid()"
   ]
  },
  {
   "cell_type": "code",
   "execution_count": 16,
   "metadata": {},
   "outputs": [
    {
     "name": "stdout",
     "output_type": "stream",
     "text": [
      "Main Process PID: 13047\n",
      "Child Process Name: 2005 PID: 13114  Parent PID: 13047\n",
      "Child Process Name: 2006 PID: 13115  Parent PID: 13047\n",
      "Child Process Name: 2007 PID: 13116  Parent PID: 13047\n",
      "Child Process Name: 2008 PID: 13117  Parent PID: 13047\n",
      "Child Process Name: 2009 PID: 13118  Parent PID: 13047\n",
      "Child Process Name: 2010 PID: 13119  Parent PID: 13047\n"
     ]
    }
   ],
   "source": [
    "def main():\n",
    "    print(\"Main Process PID: {}\".format(mp.current_process().pid))\n",
    "    \n",
    "    procesos = [MyProcess(str(r)) for r in range(2005,2011)]\n",
    "    \n",
    "    for p in procesos:\n",
    "        p.start()\n",
    "        p.join()\n",
    "main()"
   ]
  },
  {
   "cell_type": "code",
   "execution_count": 17,
   "metadata": {},
   "outputs": [],
   "source": [
    "def proceso1(x):\n",
    "    y = (x ** 2) + x - 2\n",
    "    plt.plot(x, y)\n",
    "    plt.show()\n",
    "    \n",
    "def proceso2(x):\n",
    "    y = (x ** 3) - 2 * (x ** 2) + x + 1\n",
    "    plt.plot(x, y)\n",
    "    plt.show()\n",
    "    "
   ]
  },
  {
   "cell_type": "code",
   "execution_count": 18,
   "metadata": {},
   "outputs": [
    {
     "name": "stdout",
     "output_type": "stream",
     "text": [
      "Main Process PID: 13047\n",
      "Tiempo de ejecución paralelo:  0.3486621379852295\n"
     ]
    }
   ],
   "source": [
    "def main():\n",
    "    print(\"Main Process PID: {}\".format(mp.current_process().pid))\n",
    "\n",
    "    t = time.time()\n",
    "    Proceso7 = mp.Process(target = proceso1, args = (np.linspace(-10, 10),))\n",
    "    Proceso8 = mp.Process(target = proceso2, args = (np.linspace(-10, 10),))\n",
    "    \n",
    "    Proceso7.start()\n",
    "    Proceso8.start()\n",
    "    \n",
    "    Proceso7.join()\n",
    "    Proceso8.join()\n",
    "    \n",
    "    print(\"Tiempo de ejecución paralelo: \", time.time() - t)\n",
    "\"\"\"\n",
    "    t = time.time()\n",
    "    \n",
    "    proceso1(np.linspace(-10, 10))\n",
    "    proceso2(np.linspace(-10, 10))\n",
    "    print(\"Tiempo de ejecución secuencial: \", time.time() - t)\"\"\"\n",
    "    \n",
    "main()"
   ]
  },
  {
   "cell_type": "code",
   "execution_count": 19,
   "metadata": {},
   "outputs": [],
   "source": [
    "def reduccion_secuencial():\n",
    "    num = 10e6 \n",
    "    while num != 0:\n",
    "        num -= 1\n",
    "    \n",
    "def reduccion_concurrente1():\n",
    "    num = 5e6 \n",
    "    while num != 0:\n",
    "        num -= 1\n",
    "    \n",
    "def reduccion_concurrente2():\n",
    "    num = 5e6 \n",
    "    while num != 0:\n",
    "        num -= 1\n",
    "    \n"
   ]
  },
  {
   "cell_type": "code",
   "execution_count": 20,
   "metadata": {},
   "outputs": [
    {
     "name": "stdout",
     "output_type": "stream",
     "text": [
      "Main Process PID: 13047\n",
      "Tiempo de ejecución concurrente:  0.5217556953430176\n",
      "Tiempo de ejecución secuencial:  0.9792940616607666\n"
     ]
    }
   ],
   "source": [
    "def main():\n",
    "    print(\"Main Process PID: {}\".format(mp.current_process().pid))\n",
    "\n",
    "    t = time.time()\n",
    "    Proceso9 = mp.Process(target = reduccion_concurrente1)\n",
    "    Proceso10 = mp.Process(target = reduccion_concurrente2)\n",
    "    \n",
    "    Proceso9.start()\n",
    "    Proceso10.start()\n",
    "    \n",
    "    Proceso9.join()\n",
    "    Proceso10.join()\n",
    "    \n",
    "    print(\"Tiempo de ejecución concurrente: \", time.time() - t)\n",
    "\n",
    "    t = time.time()\n",
    "    \n",
    "    reduccion_secuencial()\n",
    "    print(\"Tiempo de ejecución secuencial: \", time.time() - t)\n",
    "    \n",
    "main()"
   ]
  },
  {
   "cell_type": "markdown",
   "metadata": {},
   "source": [
    "## Memoria compartida\n",
    "\n",
    "Los datos se pueden almacenar en un mapa de memoria compartida usando `Array` o `Value`. Veamos algunos ejemplos:"
   ]
  },
  {
   "cell_type": "code",
   "execution_count": 21,
   "metadata": {},
   "outputs": [
    {
     "name": "stdout",
     "output_type": "stream",
     "text": [
      "Resultado del proceso: [0, 1, 4, 9, 16, 25, 36, 49, 64, 81]\n",
      "Tiempo de ejecución:  0.07104301452636719\n",
      "Resultado del proceso:  [0, 1, 4, 9, 16, 25, 36, 49, 64, 81]\n",
      "Resultado del proceso:  5.35\n"
     ]
    }
   ],
   "source": [
    "def calc_cuad(numeros, resultado, val):\n",
    "    val.value = 5.35\n",
    "    for idx, n in enumerate(numeros):\n",
    "        resultado[idx] = n * n\n",
    "\n",
    "    print(\"Resultado del proceso:\", result[:])\n",
    "    \n",
    "nums = range(10)\n",
    "\n",
    "t = time.time()\n",
    "result = mp.Array('i', 10)\n",
    "val = mp.Value('d', 0.0)\n",
    "p1 = mp.Process(target = calc_cuad, args = (nums, result, val))\n",
    "\n",
    "p1.start()\n",
    "p1.join()\n",
    "\n",
    "print(\"Tiempo de ejecución: \", time.time() - t)\n",
    "print(\"Resultado del proceso: \", result[:])\n",
    "print(\"Resultado del proceso: \", val.value)"
   ]
  },
  {
   "cell_type": "code",
   "execution_count": 22,
   "metadata": {},
   "outputs": [],
   "source": [
    "def f(conn):\n",
    "    conn.send(\"Hello World!\")\n",
    "    conn.close()"
   ]
  },
  {
   "cell_type": "code",
   "execution_count": 23,
   "metadata": {},
   "outputs": [
    {
     "ename": "AttributeError",
     "evalue": "'Process' object has no attribute 'recv'",
     "output_type": "error",
     "traceback": [
      "\u001b[0;31m---------------------------------------------------------------------------\u001b[0m",
      "\u001b[0;31mAttributeError\u001b[0m                            Traceback (most recent call last)",
      "\u001b[0;32m<ipython-input-23-7975ddcc6699>\u001b[0m in \u001b[0;36m<module>\u001b[0;34m\u001b[0m\n\u001b[1;32m      2\u001b[0m \u001b[0mp\u001b[0m \u001b[0;34m=\u001b[0m \u001b[0mmp\u001b[0m\u001b[0;34m.\u001b[0m\u001b[0mProcess\u001b[0m\u001b[0;34m(\u001b[0m\u001b[0mtarget\u001b[0m \u001b[0;34m=\u001b[0m \u001b[0mf\u001b[0m\u001b[0;34m,\u001b[0m \u001b[0margs\u001b[0m \u001b[0;34m=\u001b[0m \u001b[0;34m(\u001b[0m\u001b[0mchild_conn\u001b[0m\u001b[0;34m,\u001b[0m\u001b[0;34m)\u001b[0m\u001b[0;34m)\u001b[0m\u001b[0;34m\u001b[0m\u001b[0;34m\u001b[0m\u001b[0m\n\u001b[1;32m      3\u001b[0m \u001b[0mp\u001b[0m\u001b[0;34m.\u001b[0m\u001b[0mstart\u001b[0m\u001b[0;34m(\u001b[0m\u001b[0;34m)\u001b[0m\u001b[0;34m\u001b[0m\u001b[0;34m\u001b[0m\u001b[0m\n\u001b[0;32m----> 4\u001b[0;31m \u001b[0mprint\u001b[0m\u001b[0;34m(\u001b[0m\u001b[0mp\u001b[0m\u001b[0;34m.\u001b[0m\u001b[0mrecv\u001b[0m\u001b[0;34m(\u001b[0m\u001b[0;34m)\u001b[0m\u001b[0;34m)\u001b[0m\u001b[0;34m\u001b[0m\u001b[0;34m\u001b[0m\u001b[0m\n\u001b[0m",
      "\u001b[0;31mAttributeError\u001b[0m: 'Process' object has no attribute 'recv'"
     ]
    }
   ],
   "source": [
    "parent_conn, child_conn = mp.Pipe()\n",
    "p = mp.Process(target = f, args = (child_conn,))\n",
    "p.start()\n",
    "print(p.recv())"
   ]
  },
  {
   "cell_type": "code",
   "execution_count": 24,
   "metadata": {},
   "outputs": [],
   "source": [
    "nombres = [\"Carlos\", \"Renata\", \"Sandra\", \"END\"]\n",
    "\n",
    "def send_msgs(conn, msgs):\n",
    "    for msg in msgs:\n",
    "        conn.send(msg)\n",
    "    conn.close()\n",
    "    \n",
    "def recv_msgs(conn):\n",
    "    while 1:\n",
    "        msg = conn.recv()\n",
    "        if msg == \"END\":\n",
    "            break\n",
    "    conn.close()"
   ]
  },
  {
   "cell_type": "code",
   "execution_count": 25,
   "metadata": {},
   "outputs": [],
   "source": [
    "def deposit(balance, lock):   \n",
    "    for i in range(100):\n",
    "        time.sleep(0.01)\n",
    "        lock.acquire()\n",
    "        \n",
    "        balance.value += 1\n",
    "        lock.release()\n",
    "        \n",
    "def withdraw(balance, lock):\n",
    "    for i in range(100):\n",
    "        lock.acquire()\n",
    "        time.sleep(0.01)\n",
    "        balance.value -= 1\n",
    "        lock.release()"
   ]
  },
  {
   "cell_type": "code",
   "execution_count": 26,
   "metadata": {},
   "outputs": [
    {
     "name": "stdout",
     "output_type": "stream",
     "text": [
      "200\n"
     ]
    }
   ],
   "source": [
    "balance = mp.Value('i', 200)\n",
    "lock = mp.Lock()\n",
    "d = mp.Process(target = deposit, args = (balance, lock))\n",
    "w = mp.Process(target = withdraw, args = (balance, lock))\n",
    "\n",
    "d.start()\n",
    "w.start()\n",
    "\n",
    "d.join()\n",
    "w.join()\n",
    "print(balance.value)"
   ]
  },
  {
   "cell_type": "code",
   "execution_count": 34,
   "metadata": {},
   "outputs": [
    {
     "name": "stderr",
     "output_type": "stream",
     "text": [
      "Process ForkPoolWorker-45:\n",
      "Process ForkPoolWorker-44:\n",
      "Process ForkPoolWorker-43:\n",
      "Process ForkPoolWorker-42:\n",
      "Traceback (most recent call last):\n",
      "Traceback (most recent call last):\n",
      "Traceback (most recent call last):\n",
      "Traceback (most recent call last):\n",
      "  File \"/usr/local/Cellar/python/3.7.4/Frameworks/Python.framework/Versions/3.7/lib/python3.7/multiprocessing/process.py\", line 297, in _bootstrap\n",
      "    self.run()\n",
      "  File \"/usr/local/Cellar/python/3.7.4/Frameworks/Python.framework/Versions/3.7/lib/python3.7/multiprocessing/process.py\", line 297, in _bootstrap\n",
      "    self.run()\n",
      "  File \"/usr/local/Cellar/python/3.7.4/Frameworks/Python.framework/Versions/3.7/lib/python3.7/multiprocessing/process.py\", line 297, in _bootstrap\n",
      "    self.run()\n",
      "  File \"/usr/local/Cellar/python/3.7.4/Frameworks/Python.framework/Versions/3.7/lib/python3.7/multiprocessing/process.py\", line 297, in _bootstrap\n",
      "    self.run()\n",
      "  File \"/usr/local/Cellar/python/3.7.4/Frameworks/Python.framework/Versions/3.7/lib/python3.7/multiprocessing/process.py\", line 99, in run\n",
      "    self._target(*self._args, **self._kwargs)\n",
      "  File \"/usr/local/Cellar/python/3.7.4/Frameworks/Python.framework/Versions/3.7/lib/python3.7/multiprocessing/process.py\", line 99, in run\n",
      "    self._target(*self._args, **self._kwargs)\n",
      "  File \"/usr/local/Cellar/python/3.7.4/Frameworks/Python.framework/Versions/3.7/lib/python3.7/multiprocessing/process.py\", line 99, in run\n",
      "    self._target(*self._args, **self._kwargs)\n",
      "  File \"/usr/local/Cellar/python/3.7.4/Frameworks/Python.framework/Versions/3.7/lib/python3.7/multiprocessing/process.py\", line 99, in run\n",
      "    self._target(*self._args, **self._kwargs)\n",
      "  File \"/usr/local/Cellar/python/3.7.4/Frameworks/Python.framework/Versions/3.7/lib/python3.7/multiprocessing/pool.py\", line 110, in worker\n",
      "    task = get()\n",
      "  File \"/usr/local/Cellar/python/3.7.4/Frameworks/Python.framework/Versions/3.7/lib/python3.7/multiprocessing/pool.py\", line 110, in worker\n",
      "    task = get()\n",
      "  File \"/usr/local/Cellar/python/3.7.4/Frameworks/Python.framework/Versions/3.7/lib/python3.7/multiprocessing/pool.py\", line 110, in worker\n",
      "    task = get()\n",
      "  File \"/usr/local/Cellar/python/3.7.4/Frameworks/Python.framework/Versions/3.7/lib/python3.7/multiprocessing/pool.py\", line 110, in worker\n",
      "    task = get()\n",
      "  File \"/usr/local/Cellar/python/3.7.4/Frameworks/Python.framework/Versions/3.7/lib/python3.7/multiprocessing/queues.py\", line 351, in get\n",
      "    with self._rlock:\n",
      "  File \"/usr/local/Cellar/python/3.7.4/Frameworks/Python.framework/Versions/3.7/lib/python3.7/multiprocessing/queues.py\", line 351, in get\n",
      "    with self._rlock:\n",
      "  File \"/usr/local/Cellar/python/3.7.4/Frameworks/Python.framework/Versions/3.7/lib/python3.7/multiprocessing/queues.py\", line 351, in get\n",
      "    with self._rlock:\n",
      "  File \"/usr/local/Cellar/python/3.7.4/Frameworks/Python.framework/Versions/3.7/lib/python3.7/multiprocessing/queues.py\", line 352, in get\n",
      "    res = self._reader.recv_bytes()\n",
      "  File \"/usr/local/Cellar/python/3.7.4/Frameworks/Python.framework/Versions/3.7/lib/python3.7/multiprocessing/synchronize.py\", line 95, in __enter__\n",
      "    return self._semlock.__enter__()\n",
      "  File \"/usr/local/Cellar/python/3.7.4/Frameworks/Python.framework/Versions/3.7/lib/python3.7/multiprocessing/synchronize.py\", line 95, in __enter__\n",
      "    return self._semlock.__enter__()\n",
      "  File \"/usr/local/Cellar/python/3.7.4/Frameworks/Python.framework/Versions/3.7/lib/python3.7/multiprocessing/synchronize.py\", line 95, in __enter__\n",
      "    return self._semlock.__enter__()\n",
      "  File \"/usr/local/Cellar/python/3.7.4/Frameworks/Python.framework/Versions/3.7/lib/python3.7/multiprocessing/connection.py\", line 216, in recv_bytes\n",
      "    buf = self._recv_bytes(maxlength)\n",
      "KeyboardInterrupt\n",
      "KeyboardInterrupt\n",
      "KeyboardInterrupt\n",
      "  File \"/usr/local/Cellar/python/3.7.4/Frameworks/Python.framework/Versions/3.7/lib/python3.7/multiprocessing/connection.py\", line 407, in _recv_bytes\n",
      "    buf = self._recv(4)\n",
      "  File \"/usr/local/Cellar/python/3.7.4/Frameworks/Python.framework/Versions/3.7/lib/python3.7/multiprocessing/connection.py\", line 379, in _recv\n",
      "    chunk = read(handle, remaining)\n",
      "KeyboardInterrupt\n"
     ]
    }
   ],
   "source": [
    "datos = [1,2,3,4,5]\n",
    "p = mp.Pool()\n",
    "# resultado = p.map(calc_cuad, datos)\n",
    "# print(resultado)"
   ]
  },
  {
   "cell_type": "markdown",
   "metadata": {},
   "source": [
    "## Ejercicios\n",
    "\n",
    "1.- Padre crea dos hijos\n",
    "    Hijo 1: Crea un archivo de texto(10 lineas)\n",
    "    Hijo 2: Lee el archivo y crea una copia\n",
    "    \n",
    "2.- Crea dos procesos\n",
    "\n",
    "    P1 : Hace la suma x = x + 1\n",
    "    p2 : Hace la suma y = x + 1\n",
    "    X puede ser una lista de valores\n",
    "\n",
    "3.- Simula un proceso de supermercado. Se tiene 10 clientes con 10 productos c/u \n",
    "\n",
    "    A) Crea un proceso (cajera) que atienda los 10 clientes, calcula el tiempo.\n",
    "    B) Crea dos procesos (2 cajeras) que atiendan 5 clientes c/u calcula tiempo."
   ]
  },
  {
   "cell_type": "code",
   "execution_count": 45,
   "metadata": {},
   "outputs": [],
   "source": [
    "def crea_archivo(archivo):\n",
    "    f = open(archivo, \"w+\")\n",
    "    for i in range(10):\n",
    "        f.write(\"\\n Escribo linea: \" + str(i))\n",
    "    f.close()"
   ]
  },
  {
   "cell_type": "code",
   "execution_count": 46,
   "metadata": {},
   "outputs": [],
   "source": [
    "def leer_archivo(archivo):\n",
    "    f = open(archivo, \"r\")\n",
    "    f1 = open(\"archivo_nuevo.txt\", \"w+\")\n",
    "    for linea in f:\n",
    "        f1.write(linea)\n",
    "    f.close()\n",
    "    f1.close()"
   ]
  },
  {
   "cell_type": "code",
   "execution_count": 54,
   "metadata": {},
   "outputs": [
    {
     "name": "stdout",
     "output_type": "stream",
     "text": [
      "Tiempo:  0.0325009822845459\n"
     ]
    }
   ],
   "source": [
    "archivo = \"archivito.txt\"\n",
    "t = time.time()\n",
    "p10 = mp.Process(target = crea_archivo, args = (archivo,))\n",
    "p11 = mp.Process(target = leer_archivo, args = (archivo,))\n",
    "\n",
    "p10.start()\n",
    "p11.start()\n",
    "p10.join()\n",
    "p11.join()\n",
    "print(\"Tiempo: \", time.time() - t)"
   ]
  },
  {
   "cell_type": "code",
   "execution_count": 76,
   "metadata": {},
   "outputs": [],
   "source": [
    "def proceso_suma(numeros, lock):\n",
    "    lock.acquire()\n",
    "    numeros.value = numeros.value + 1\n",
    "    lock.release()\n",
    "    return numeros"
   ]
  },
  {
   "cell_type": "code",
   "execution_count": 77,
   "metadata": {},
   "outputs": [],
   "source": [
    "def proceso_suma_2(numeros, lock):\n",
    "    lock.acquire()\n",
    "    numero = numeros.value + 1\n",
    "    lock.release()\n",
    "    return numero"
   ]
  },
  {
   "cell_type": "code",
   "execution_count": 78,
   "metadata": {},
   "outputs": [
    {
     "name": "stdout",
     "output_type": "stream",
     "text": [
      "6\n"
     ]
    }
   ],
   "source": [
    "# Entero\n",
    "X = mp.Value('i', 5)\n",
    "lock = mp.Lock()\n",
    "P1 = mp.Process(target = proceso_suma, args = (X, lock))\n",
    "P2 = mp.Process(target = proceso_suma_2, args = (X, lock))\n",
    "\n",
    "P1.start()\n",
    "P2.start()\n",
    "\n",
    "P1.join()\n",
    "P2.join()\n",
    "print(X.value)"
   ]
  },
  {
   "cell_type": "code",
   "execution_count": 116,
   "metadata": {},
   "outputs": [],
   "source": [
    "def proceso_suma_a(numeros):\n",
    "    for i in range(len(numeros)):\n",
    "        numeros[i] = numeros[i] + 1\n",
    "    return numeros"
   ]
  },
  {
   "cell_type": "code",
   "execution_count": 119,
   "metadata": {},
   "outputs": [],
   "source": [
    "def proceso_suma2_a(numeros):\n",
    "    print([n for n in numeros])\n",
    "    for i in range(len(numeros)):\n",
    "        numeros[i] = numeros[i] + 1\n",
    "    return numeros"
   ]
  },
  {
   "cell_type": "code",
   "execution_count": null,
   "metadata": {},
   "outputs": [],
   "source": [
    "# Entero\n",
    "t = time.time()\n",
    "lock = mp.Lock()\n",
    "X = mp.Array('i', range(1000000), lock=lock)\n",
    "P1 = mp.Process(target = proceso_suma_a, args = (X,))\n",
    "P2 = mp.Process(target = proceso_suma2_a, args = (X,))\n",
    "\n",
    "P1.start()\n",
    "P2.start()\n",
    "\n",
    "P1.join()\n",
    "P2.join()\n",
    "print(\"Tiempo ejecución: \", time.time() - t)"
   ]
  },
  {
   "cell_type": "code",
   "execution_count": 92,
   "metadata": {},
   "outputs": [],
   "source": [
    "def cajera(clientes):\n",
    "    total = 0\n",
    "    \n",
    "    while clientes.empty() == False:\n",
    "        print('Cajera %s antendiendo...' % (mp.current_process().name))\n",
    "        c = clientes.get()\n",
    "        total += c.total\n",
    "        if clientes.empty() == True:\n",
    "            break;\n",
    "        \n",
    "    print(\"Total: $\", total, \" Cajera: \", mp.current_process().name)"
   ]
  },
  {
   "cell_type": "code",
   "execution_count": 93,
   "metadata": {},
   "outputs": [],
   "source": [
    "class Cliente():\n",
    "    def __init__(self, productos):\n",
    "        self._productos = productos\n",
    "    \n",
    "    @property\n",
    "    def productos(self):  \n",
    "        return self._productos\n",
    "    \n",
    "    @property\n",
    "    def total(self):\n",
    "        return random.randint(1, 3000)\n",
    "    "
   ]
  },
  {
   "cell_type": "code",
   "execution_count": 94,
   "metadata": {},
   "outputs": [
    {
     "name": "stdout",
     "output_type": "stream",
     "text": [
      "Cajera Process-51 antendiendo...\n",
      "Cajera Process-52 antendiendo...\n",
      "Cajera Process-51 antendiendo...\n",
      "Cajera Process-52 antendiendo...\n",
      "Cajera Process-51 antendiendo...\n",
      "Cajera Process-52 antendiendo...\n",
      "Cajera Process-51 antendiendo...\n",
      "Cajera Process-52 antendiendo...\n",
      "Cajera Process-51 antendiendo...\n",
      "Cajera Process-51 antendiendo...\n",
      "Cajera Process-52 antendiendo...\n",
      "Total: $ 6834  Cajera:  Process-51\n"
     ]
    },
    {
     "name": "stderr",
     "output_type": "stream",
     "text": [
      "Process Process-52:\n",
      "  File \"/usr/local/Cellar/python/3.7.4/Frameworks/Python.framework/Versions/3.7/lib/python3.7/multiprocessing/process.py\", line 297, in _bootstrap\n",
      "    self.run()\n",
      "Traceback (most recent call last):\n",
      "  File \"/usr/local/Cellar/python/3.7.4/Frameworks/Python.framework/Versions/3.7/lib/python3.7/multiprocessing/process.py\", line 99, in run\n",
      "    self._target(*self._args, **self._kwargs)\n",
      "  File \"<ipython-input-92-de8ac6a37991>\", line 6, in cajera\n",
      "    c = clientes.get()\n",
      "  File \"/usr/local/Cellar/python/3.7.4/Frameworks/Python.framework/Versions/3.7/lib/python3.7/multiprocessing/queues.py\", line 352, in get\n",
      "    res = self._reader.recv_bytes()\n",
      "  File \"/usr/local/Cellar/python/3.7.4/Frameworks/Python.framework/Versions/3.7/lib/python3.7/multiprocessing/connection.py\", line 216, in recv_bytes\n",
      "    buf = self._recv_bytes(maxlength)\n"
     ]
    },
    {
     "ename": "KeyboardInterrupt",
     "evalue": "",
     "output_type": "error",
     "traceback": [
      "\u001b[0;31m---------------------------------------------------------------------------\u001b[0m",
      "\u001b[0;31mKeyboardInterrupt\u001b[0m                         Traceback (most recent call last)",
      "\u001b[0;32m<ipython-input-94-b91a57133406>\u001b[0m in \u001b[0;36m<module>\u001b[0;34m\u001b[0m\n\u001b[1;32m     10\u001b[0m \u001b[0;34m\u001b[0m\u001b[0m\n\u001b[1;32m     11\u001b[0m \u001b[0mP1\u001b[0m\u001b[0;34m.\u001b[0m\u001b[0mjoin\u001b[0m\u001b[0;34m(\u001b[0m\u001b[0;34m)\u001b[0m\u001b[0;34m\u001b[0m\u001b[0;34m\u001b[0m\u001b[0m\n\u001b[0;32m---> 12\u001b[0;31m \u001b[0mP2\u001b[0m\u001b[0;34m.\u001b[0m\u001b[0mjoin\u001b[0m\u001b[0;34m(\u001b[0m\u001b[0;34m)\u001b[0m\u001b[0;34m\u001b[0m\u001b[0;34m\u001b[0m\u001b[0m\n\u001b[0m\u001b[1;32m     13\u001b[0m \u001b[0mprint\u001b[0m\u001b[0;34m(\u001b[0m\u001b[0;34m\"Tiempo ejecución: \"\u001b[0m\u001b[0;34m,\u001b[0m \u001b[0mtime\u001b[0m\u001b[0;34m.\u001b[0m\u001b[0mtime\u001b[0m\u001b[0;34m(\u001b[0m\u001b[0;34m)\u001b[0m \u001b[0;34m-\u001b[0m \u001b[0mt\u001b[0m\u001b[0;34m)\u001b[0m\u001b[0;34m\u001b[0m\u001b[0;34m\u001b[0m\u001b[0m\n",
      "\u001b[0;32m/usr/local/Cellar/python/3.7.4/Frameworks/Python.framework/Versions/3.7/lib/python3.7/multiprocessing/process.py\u001b[0m in \u001b[0;36mjoin\u001b[0;34m(self, timeout)\u001b[0m\n\u001b[1;32m    138\u001b[0m         \u001b[0;32massert\u001b[0m \u001b[0mself\u001b[0m\u001b[0;34m.\u001b[0m\u001b[0m_parent_pid\u001b[0m \u001b[0;34m==\u001b[0m \u001b[0mos\u001b[0m\u001b[0;34m.\u001b[0m\u001b[0mgetpid\u001b[0m\u001b[0;34m(\u001b[0m\u001b[0;34m)\u001b[0m\u001b[0;34m,\u001b[0m \u001b[0;34m'can only join a child process'\u001b[0m\u001b[0;34m\u001b[0m\u001b[0;34m\u001b[0m\u001b[0m\n\u001b[1;32m    139\u001b[0m         \u001b[0;32massert\u001b[0m \u001b[0mself\u001b[0m\u001b[0;34m.\u001b[0m\u001b[0m_popen\u001b[0m \u001b[0;32mis\u001b[0m \u001b[0;32mnot\u001b[0m \u001b[0;32mNone\u001b[0m\u001b[0;34m,\u001b[0m \u001b[0;34m'can only join a started process'\u001b[0m\u001b[0;34m\u001b[0m\u001b[0;34m\u001b[0m\u001b[0m\n\u001b[0;32m--> 140\u001b[0;31m         \u001b[0mres\u001b[0m \u001b[0;34m=\u001b[0m \u001b[0mself\u001b[0m\u001b[0;34m.\u001b[0m\u001b[0m_popen\u001b[0m\u001b[0;34m.\u001b[0m\u001b[0mwait\u001b[0m\u001b[0;34m(\u001b[0m\u001b[0mtimeout\u001b[0m\u001b[0;34m)\u001b[0m\u001b[0;34m\u001b[0m\u001b[0;34m\u001b[0m\u001b[0m\n\u001b[0m\u001b[1;32m    141\u001b[0m         \u001b[0;32mif\u001b[0m \u001b[0mres\u001b[0m \u001b[0;32mis\u001b[0m \u001b[0;32mnot\u001b[0m \u001b[0;32mNone\u001b[0m\u001b[0;34m:\u001b[0m\u001b[0;34m\u001b[0m\u001b[0;34m\u001b[0m\u001b[0m\n\u001b[1;32m    142\u001b[0m             \u001b[0m_children\u001b[0m\u001b[0;34m.\u001b[0m\u001b[0mdiscard\u001b[0m\u001b[0;34m(\u001b[0m\u001b[0mself\u001b[0m\u001b[0;34m)\u001b[0m\u001b[0;34m\u001b[0m\u001b[0;34m\u001b[0m\u001b[0m\n",
      "\u001b[0;32m/usr/local/Cellar/python/3.7.4/Frameworks/Python.framework/Versions/3.7/lib/python3.7/multiprocessing/popen_fork.py\u001b[0m in \u001b[0;36mwait\u001b[0;34m(self, timeout)\u001b[0m\n\u001b[1;32m     46\u001b[0m                     \u001b[0;32mreturn\u001b[0m \u001b[0;32mNone\u001b[0m\u001b[0;34m\u001b[0m\u001b[0;34m\u001b[0m\u001b[0m\n\u001b[1;32m     47\u001b[0m             \u001b[0;31m# This shouldn't block if wait() returned successfully.\u001b[0m\u001b[0;34m\u001b[0m\u001b[0;34m\u001b[0m\u001b[0;34m\u001b[0m\u001b[0m\n\u001b[0;32m---> 48\u001b[0;31m             \u001b[0;32mreturn\u001b[0m \u001b[0mself\u001b[0m\u001b[0;34m.\u001b[0m\u001b[0mpoll\u001b[0m\u001b[0;34m(\u001b[0m\u001b[0mos\u001b[0m\u001b[0;34m.\u001b[0m\u001b[0mWNOHANG\u001b[0m \u001b[0;32mif\u001b[0m \u001b[0mtimeout\u001b[0m \u001b[0;34m==\u001b[0m \u001b[0;36m0.0\u001b[0m \u001b[0;32melse\u001b[0m \u001b[0;36m0\u001b[0m\u001b[0;34m)\u001b[0m\u001b[0;34m\u001b[0m\u001b[0;34m\u001b[0m\u001b[0m\n\u001b[0m\u001b[1;32m     49\u001b[0m         \u001b[0;32mreturn\u001b[0m \u001b[0mself\u001b[0m\u001b[0;34m.\u001b[0m\u001b[0mreturncode\u001b[0m\u001b[0;34m\u001b[0m\u001b[0;34m\u001b[0m\u001b[0m\n\u001b[1;32m     50\u001b[0m \u001b[0;34m\u001b[0m\u001b[0m\n",
      "\u001b[0;32m/usr/local/Cellar/python/3.7.4/Frameworks/Python.framework/Versions/3.7/lib/python3.7/multiprocessing/popen_fork.py\u001b[0m in \u001b[0;36mpoll\u001b[0;34m(self, flag)\u001b[0m\n\u001b[1;32m     26\u001b[0m         \u001b[0;32mif\u001b[0m \u001b[0mself\u001b[0m\u001b[0;34m.\u001b[0m\u001b[0mreturncode\u001b[0m \u001b[0;32mis\u001b[0m \u001b[0;32mNone\u001b[0m\u001b[0;34m:\u001b[0m\u001b[0;34m\u001b[0m\u001b[0;34m\u001b[0m\u001b[0m\n\u001b[1;32m     27\u001b[0m             \u001b[0;32mtry\u001b[0m\u001b[0;34m:\u001b[0m\u001b[0;34m\u001b[0m\u001b[0;34m\u001b[0m\u001b[0m\n\u001b[0;32m---> 28\u001b[0;31m                 \u001b[0mpid\u001b[0m\u001b[0;34m,\u001b[0m \u001b[0msts\u001b[0m \u001b[0;34m=\u001b[0m \u001b[0mos\u001b[0m\u001b[0;34m.\u001b[0m\u001b[0mwaitpid\u001b[0m\u001b[0;34m(\u001b[0m\u001b[0mself\u001b[0m\u001b[0;34m.\u001b[0m\u001b[0mpid\u001b[0m\u001b[0;34m,\u001b[0m \u001b[0mflag\u001b[0m\u001b[0;34m)\u001b[0m\u001b[0;34m\u001b[0m\u001b[0;34m\u001b[0m\u001b[0m\n\u001b[0m\u001b[1;32m     29\u001b[0m             \u001b[0;32mexcept\u001b[0m \u001b[0mOSError\u001b[0m \u001b[0;32mas\u001b[0m \u001b[0me\u001b[0m\u001b[0;34m:\u001b[0m\u001b[0;34m\u001b[0m\u001b[0;34m\u001b[0m\u001b[0m\n\u001b[1;32m     30\u001b[0m                 \u001b[0;31m# Child process not yet created. See #1731717\u001b[0m\u001b[0;34m\u001b[0m\u001b[0;34m\u001b[0m\u001b[0;34m\u001b[0m\u001b[0m\n",
      "\u001b[0;31mKeyboardInterrupt\u001b[0m: "
     ]
    },
    {
     "name": "stderr",
     "output_type": "stream",
     "text": [
      "  File \"/usr/local/Cellar/python/3.7.4/Frameworks/Python.framework/Versions/3.7/lib/python3.7/multiprocessing/connection.py\", line 407, in _recv_bytes\n",
      "    buf = self._recv(4)\n",
      "  File \"/usr/local/Cellar/python/3.7.4/Frameworks/Python.framework/Versions/3.7/lib/python3.7/multiprocessing/connection.py\", line 379, in _recv\n",
      "    chunk = read(handle, remaining)\n",
      "KeyboardInterrupt\n"
     ]
    }
   ],
   "source": [
    "t = time.time()\n",
    "lock = mp.Lock()\n",
    "clientes = mp.SimpleQueue()\n",
    "[clientes.put(Cliente(10)) for _ in range(10)]\n",
    "P1 = mp.Process(target = cajera, args = (clientes,))\n",
    "P2 = mp.Process(target = cajera, args = (clientes,))\n",
    "\n",
    "P1.start()\n",
    "P2.start()\n",
    "\n",
    "P1.join()\n",
    "P2.join()\n",
    "print(\"Tiempo ejecución: \", time.time() - t)\n"
   ]
  },
  {
   "cell_type": "code",
   "execution_count": null,
   "metadata": {},
   "outputs": [],
   "source": []
  },
  {
   "cell_type": "code",
   "execution_count": null,
   "metadata": {},
   "outputs": [],
   "source": []
  }
 ],
 "metadata": {
  "kernelspec": {
   "display_name": "Python 3",
   "language": "python",
   "name": "python3"
  },
  "language_info": {
   "codemirror_mode": {
    "name": "ipython",
    "version": 3
   },
   "file_extension": ".py",
   "mimetype": "text/x-python",
   "name": "python",
   "nbconvert_exporter": "python",
   "pygments_lexer": "ipython3",
   "version": "3.7.4"
  }
 },
 "nbformat": 4,
 "nbformat_minor": 2
}
